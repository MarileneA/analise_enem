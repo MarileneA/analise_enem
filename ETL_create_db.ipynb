{
 "cells": [
  {
   "cell_type": "markdown",
   "id": "ef02ccaf",
   "metadata": {},
   "source": [
    "# Analise de dados ENEM 2017"
   ]
  },
  {
   "cell_type": "markdown",
   "id": "90112a4f",
   "metadata": {},
   "source": [
    "# 0.0 Imports"
   ]
  },
  {
   "cell_type": "code",
   "execution_count": 1,
   "id": "ebc121ad",
   "metadata": {
    "ExecuteTime": {
     "end_time": "2022-12-28T08:09:09.217280Z",
     "start_time": "2022-12-28T08:09:07.246062Z"
    }
   },
   "outputs": [],
   "source": [
    "import inflection\n",
    "import sqlite3\n",
    "import zipfile\n",
    "import pandas                   as pd\n",
    "import numpy                    as np\n",
    "import seaborn                  as sns\n",
    "import plotly.express           as px\n",
    "from sqlalchemy                 import create_engine\n",
    "from matplotlib                 import gridspec\n",
    "from matplotlib                 import pyplot as plt\n",
    "\n",
    "from geopy.geocoders            import Nominatim\n",
    "from geopy.extra.rate_limiter   import RateLimiter"
   ]
  },
  {
   "cell_type": "markdown",
   "id": "c24a16c2",
   "metadata": {},
   "source": [
    "## Funções"
   ]
  },
  {
   "cell_type": "code",
   "execution_count": 2,
   "id": "a4a87c8c",
   "metadata": {
    "ExecuteTime": {
     "end_time": "2022-12-28T08:09:09.248572Z",
     "start_time": "2022-12-28T08:09:09.222481Z"
    }
   },
   "outputs": [],
   "source": [
    "# Função para formatar notação científica\n",
    "pd.set_option('display.float_format', lambda x: '%.4f' % x)\n",
    "\n",
    "# Tamanho dos Graficos\n",
    "sns.set(style = \"darkgrid\")\n",
    "sns.set(rc={\"figure.figsize\":(15, 10)})\n",
    "#pd.options.display.float_format = \"{:,.2f}\".format\n",
    "\n",
    "def show_dimensions(data):\n",
    "    print(f'Numbers of rows: { df.shape[0] }\\n')\n",
    "    print(f'Numbers of columns: { df.shape[1] }\\n')\n",
    "    return None\n",
    "\n",
    "def show_dtypes(data):\n",
    "    print(data.info())\n",
    "    return None\n",
    "\n",
    "# Obter coordenadas geográficas\n",
    "def geo_data(data):\n",
    "    locator = Nominatim(user_agent=\"mygeocoder\")\n",
    "    geocode = RateLimiter(locator.geocode, min_delay_seconds=1)\n",
    "\n",
    "    df_cidades['geolocalizacao'] = df_cidades['Município'].apply(geocode)\n",
    "    ## Filtrando lat e long da coluna\n",
    "    df_cidades['lat']= df_cidades['geolocalizacao'].apply(lambda loc: loc.latitude if loc else None)\n",
    "    df_cidades['long']= df_cidades['geolocalizacao'].apply(lambda loc: loc.longitude if loc else None)\n",
    "       \n",
    "    return data\n",
    "\n",
    "def clean_code(data):\n",
    "    \"\"\"Esta Função Limpa o DataFrame\n",
    "    tipo de limpeza:\n",
    "    remove os dados NA\n",
    "    remove as notas zero \"\"\"\n",
    "    df = df.dropna()\n",
    "    \n",
    "    return data\n",
    "    "
   ]
  },
  {
   "cell_type": "markdown",
   "id": "98cfd395",
   "metadata": {},
   "source": [
    "##  Extração  dos dados"
   ]
  },
  {
   "cell_type": "code",
   "execution_count": 40,
   "id": "45e1d322",
   "metadata": {
    "ExecuteTime": {
     "end_time": "2022-12-28T08:13:59.566145Z",
     "start_time": "2022-12-28T08:13:59.339006Z"
    }
   },
   "outputs": [],
   "source": [
    "#MIcrodados Enem\n",
    "colunas = ['NU_INSCRICAO', 'NU_ANO', 'TP_FAIXA_ETARIA', 'TP_SEXO', 'TP_ESTADO_CIVIL', 'TP_COR_RACA','TP_ESCOLA', \n",
    "           'NO_MUNICIPIO_PROVA', 'SG_UF_PROVA','NU_NOTA_CN', 'NU_NOTA_CH', 'NU_NOTA_LC', 'NU_NOTA_MT','NU_NOTA_REDACAO','Q006']\n",
    "\n",
    "with zipfile.ZipFile('data/microdados_enem_2017.zip') as z:\n",
    "    with z.open('DADOS/MICRODADOS_ENEM_2017.csv') as f:\n",
    "        # Criar uma lista com estas colunas que serão usadas\n",
    "        df = pd.read_csv(f,sep=';', encoding='ISO-8859-1', usecols=colunas, nrows=25000)\n",
    "        \n",
    "# carregar o Dataset cidades\n",
    "#colunas = ['Município','IDHMunicipal_2010', 'População_estimada_pessoas_2019']\n",
    "\n",
    "#df_cidades = pd.read_csv('data/cidades.csv', usecols=colunas)\n"
   ]
  },
  {
   "cell_type": "code",
   "execution_count": 41,
   "id": "281e8489",
   "metadata": {
    "ExecuteTime": {
     "end_time": "2022-12-28T08:14:00.130955Z",
     "start_time": "2022-12-28T08:14:00.074691Z"
    }
   },
   "outputs": [],
   "source": [
    "colunas = ['Município','IDHMunicipal_2010', 'População_estimada_pessoas_2019']\n",
    "\n",
    "df_cidades = pd.read_csv('data/cidades.csv', usecols=colunas)\n"
   ]
  },
  {
   "cell_type": "code",
   "execution_count": 42,
   "id": "f8d9864e",
   "metadata": {
    "ExecuteTime": {
     "end_time": "2022-12-28T08:14:00.724264Z",
     "start_time": "2022-12-28T08:14:00.707260Z"
    }
   },
   "outputs": [
    {
     "data": {
      "text/html": [
       "<div>\n",
       "<style scoped>\n",
       "    .dataframe tbody tr th:only-of-type {\n",
       "        vertical-align: middle;\n",
       "    }\n",
       "\n",
       "    .dataframe tbody tr th {\n",
       "        vertical-align: top;\n",
       "    }\n",
       "\n",
       "    .dataframe thead th {\n",
       "        text-align: right;\n",
       "    }\n",
       "</style>\n",
       "<table border=\"1\" class=\"dataframe\">\n",
       "  <thead>\n",
       "    <tr style=\"text-align: right;\">\n",
       "      <th></th>\n",
       "      <th>Município</th>\n",
       "      <th>População_estimada_pessoas_2019</th>\n",
       "      <th>IDHMunicipal_2010</th>\n",
       "    </tr>\n",
       "  </thead>\n",
       "  <tbody>\n",
       "    <tr>\n",
       "      <th>0</th>\n",
       "      <td>Adamantina</td>\n",
       "      <td>35068</td>\n",
       "      <td>0,79</td>\n",
       "    </tr>\n",
       "    <tr>\n",
       "      <th>1</th>\n",
       "      <td>Adolfo</td>\n",
       "      <td>3562</td>\n",
       "      <td>0,73</td>\n",
       "    </tr>\n",
       "    <tr>\n",
       "      <th>2</th>\n",
       "      <td>Aguaí</td>\n",
       "      <td>36305</td>\n",
       "      <td>0,715</td>\n",
       "    </tr>\n",
       "    <tr>\n",
       "      <th>3</th>\n",
       "      <td>Águas da Prata</td>\n",
       "      <td>8180</td>\n",
       "      <td>0,781</td>\n",
       "    </tr>\n",
       "    <tr>\n",
       "      <th>4</th>\n",
       "      <td>Águas de Lindóia</td>\n",
       "      <td>18705</td>\n",
       "      <td>0,745</td>\n",
       "    </tr>\n",
       "  </tbody>\n",
       "</table>\n",
       "</div>"
      ],
      "text/plain": [
       "          Município  População_estimada_pessoas_2019 IDHMunicipal_2010\n",
       "0        Adamantina                            35068              0,79\n",
       "1            Adolfo                             3562              0,73\n",
       "2             Aguaí                            36305             0,715\n",
       "3    Águas da Prata                             8180             0,781\n",
       "4  Águas de Lindóia                            18705             0,745"
      ]
     },
     "execution_count": 42,
     "metadata": {},
     "output_type": "execute_result"
    }
   ],
   "source": [
    "df_cidades.head()"
   ]
  },
  {
   "cell_type": "code",
   "execution_count": 43,
   "id": "3f076d03",
   "metadata": {
    "ExecuteTime": {
     "end_time": "2022-12-28T08:14:01.427853Z",
     "start_time": "2022-12-28T08:14:01.389858Z"
    }
   },
   "outputs": [],
   "source": [
    "cols = ['Município','IDHMunicipal_2010', 'lat', 'long']\n",
    "df_coord= pd.read_csv('data/cidade_geolocalizacao.csv', usecols=cols)"
   ]
  },
  {
   "cell_type": "code",
   "execution_count": 44,
   "id": "b4ae2a60",
   "metadata": {
    "ExecuteTime": {
     "end_time": "2022-12-28T08:14:02.251320Z",
     "start_time": "2022-12-28T08:14:01.771363Z"
    }
   },
   "outputs": [
    {
     "data": {
      "text/html": [
       "<div>\n",
       "<style scoped>\n",
       "    .dataframe tbody tr th:only-of-type {\n",
       "        vertical-align: middle;\n",
       "    }\n",
       "\n",
       "    .dataframe tbody tr th {\n",
       "        vertical-align: top;\n",
       "    }\n",
       "\n",
       "    .dataframe thead th {\n",
       "        text-align: right;\n",
       "    }\n",
       "</style>\n",
       "<table border=\"1\" class=\"dataframe\">\n",
       "  <thead>\n",
       "    <tr style=\"text-align: right;\">\n",
       "      <th></th>\n",
       "      <th>Município</th>\n",
       "      <th>IDHMunicipal_2010</th>\n",
       "      <th>lat</th>\n",
       "      <th>long</th>\n",
       "      <th>populacao</th>\n",
       "    </tr>\n",
       "  </thead>\n",
       "  <tbody>\n",
       "    <tr>\n",
       "      <th>0</th>\n",
       "      <td>Adamantina</td>\n",
       "      <td>0,79</td>\n",
       "      <td>-21.6867</td>\n",
       "      <td>-51.0763</td>\n",
       "      <td>35068</td>\n",
       "    </tr>\n",
       "    <tr>\n",
       "      <th>1</th>\n",
       "      <td>Adolfo</td>\n",
       "      <td>0,73</td>\n",
       "      <td>-21.2357</td>\n",
       "      <td>-49.6442</td>\n",
       "      <td>3562</td>\n",
       "    </tr>\n",
       "    <tr>\n",
       "      <th>2</th>\n",
       "      <td>Aguaí</td>\n",
       "      <td>0,715</td>\n",
       "      <td>-22.0592</td>\n",
       "      <td>-46.9794</td>\n",
       "      <td>36305</td>\n",
       "    </tr>\n",
       "    <tr>\n",
       "      <th>3</th>\n",
       "      <td>Águas da Prata</td>\n",
       "      <td>0,781</td>\n",
       "      <td>-21.9464</td>\n",
       "      <td>-46.7192</td>\n",
       "      <td>8180</td>\n",
       "    </tr>\n",
       "    <tr>\n",
       "      <th>4</th>\n",
       "      <td>Águas de Lindóia</td>\n",
       "      <td>0,745</td>\n",
       "      <td>-22.4719</td>\n",
       "      <td>-46.6291</td>\n",
       "      <td>18705</td>\n",
       "    </tr>\n",
       "  </tbody>\n",
       "</table>\n",
       "</div>"
      ],
      "text/plain": [
       "          Município IDHMunicipal_2010      lat     long  populacao\n",
       "0        Adamantina              0,79 -21.6867 -51.0763      35068\n",
       "1            Adolfo              0,73 -21.2357 -49.6442       3562\n",
       "2             Aguaí             0,715 -22.0592 -46.9794      36305\n",
       "3    Águas da Prata             0,781 -21.9464 -46.7192       8180\n",
       "4  Águas de Lindóia             0,745 -22.4719 -46.6291      18705"
      ]
     },
     "execution_count": 44,
     "metadata": {},
     "output_type": "execute_result"
    }
   ],
   "source": [
    "df_coord['populacao'] = df_cidades['População_estimada_pessoas_2019']\n",
    "df_coord.head()\n"
   ]
  },
  {
   "cell_type": "code",
   "execution_count": 45,
   "id": "92ca947c",
   "metadata": {
    "ExecuteTime": {
     "end_time": "2022-12-28T08:14:02.473277Z",
     "start_time": "2022-12-28T08:14:02.461278Z"
    }
   },
   "outputs": [],
   "source": [
    "df_cidades = df_coord.copy()"
   ]
  },
  {
   "cell_type": "code",
   "execution_count": 46,
   "id": "052e1761",
   "metadata": {
    "ExecuteTime": {
     "end_time": "2022-12-28T08:14:02.879693Z",
     "start_time": "2022-12-28T08:14:02.863692Z"
    }
   },
   "outputs": [],
   "source": [
    "df_cidades.columns =[['NO_MUNICIPIO_PROVA', 'idh', 'lat', 'long', 'populacao']]"
   ]
  },
  {
   "cell_type": "code",
   "execution_count": 47,
   "id": "53aa1dc6",
   "metadata": {
    "ExecuteTime": {
     "end_time": "2022-12-28T08:14:03.380251Z",
     "start_time": "2022-12-28T08:14:03.341690Z"
    }
   },
   "outputs": [],
   "source": [
    "#Renomear colunas para concatenar os datasets\n",
    "df_cidades.columns=['NO_MUNICIPIO_PROVA', 'idh', 'lat', 'long', 'populacao',]\n",
    "\n",
    "df = pd.merge(df, df_cidades, how='left', on='NO_MUNICIPIO_PROVA')"
   ]
  },
  {
   "cell_type": "code",
   "execution_count": 48,
   "id": "75a2e43a",
   "metadata": {
    "ExecuteTime": {
     "end_time": "2022-12-28T08:14:04.456771Z",
     "start_time": "2022-12-28T08:14:04.401003Z"
    }
   },
   "outputs": [
    {
     "name": "stdout",
     "output_type": "stream",
     "text": [
      "Numbers of rows: 27669\n",
      "\n",
      "Numbers of columns: 19\n",
      "\n",
      "<class 'pandas.core.frame.DataFrame'>\n",
      "Int64Index: 27669 entries, 0 to 27668\n",
      "Data columns (total 19 columns):\n",
      " #   Column              Non-Null Count  Dtype  \n",
      "---  ------              --------------  -----  \n",
      " 0   NU_INSCRICAO        27669 non-null  int64  \n",
      " 1   NU_ANO              27669 non-null  int64  \n",
      " 2   TP_FAIXA_ETARIA     27669 non-null  int64  \n",
      " 3   TP_SEXO             27669 non-null  object \n",
      " 4   TP_ESTADO_CIVIL     27669 non-null  int64  \n",
      " 5   TP_COR_RACA         27669 non-null  int64  \n",
      " 6   TP_ESCOLA           27669 non-null  int64  \n",
      " 7   NO_MUNICIPIO_PROVA  27669 non-null  object \n",
      " 8   SG_UF_PROVA         27669 non-null  object \n",
      " 9   NU_NOTA_CN          19958 non-null  float64\n",
      " 10  NU_NOTA_CH          20877 non-null  float64\n",
      " 11  NU_NOTA_LC          20877 non-null  float64\n",
      " 12  NU_NOTA_MT          19958 non-null  float64\n",
      " 13  NU_NOTA_REDACAO     20877 non-null  float64\n",
      " 14  Q006                27669 non-null  object \n",
      " 15  idh                 27669 non-null  object \n",
      " 16  lat                 27669 non-null  float64\n",
      " 17  long                27669 non-null  float64\n",
      " 18  populacao           27669 non-null  int64  \n",
      "dtypes: float64(7), int64(7), object(5)\n",
      "memory usage: 4.2+ MB\n",
      "None\n"
     ]
    }
   ],
   "source": [
    "show_dimensions(df)\n",
    "\n",
    "show_dtypes(df)"
   ]
  },
  {
   "cell_type": "markdown",
   "id": "c8302263",
   "metadata": {},
   "source": [
    "##  Transformação"
   ]
  },
  {
   "cell_type": "code",
   "execution_count": 49,
   "id": "a13a06b8",
   "metadata": {
    "ExecuteTime": {
     "end_time": "2022-12-28T08:14:06.261220Z",
     "start_time": "2022-12-28T08:14:06.243218Z"
    }
   },
   "outputs": [],
   "source": [
    "#Renomear as colunas do dataset microdados\n",
    "cols_old = ['NU_INSCRICAO', 'NU_ANO', 'TP_FAIXA_ETARIA', 'TP_SEXO',\n",
    "       'TP_ESTADO_CIVIL', 'TP_COR_RACA', 'TP_ESCOLA',\n",
    "       'NO_MUNICIPIO_PROVA', 'SG_UF_PROVA', 'NU_NOTA_CN', 'NU_NOTA_CH',\n",
    "       'NU_NOTA_LC', 'NU_NOTA_MT', 'NU_NOTA_REDACAO', 'Q006', 'idh', 'lat',\n",
    "       'long', 'populacao']\n",
    "\n",
    "\n",
    "#Função para renomear colunas\n",
    "snakecase = lambda x: inflection.underscore(x)\n",
    "cols_new = list( map( snakecase, cols_old) )\n",
    "#Rename\n",
    "df.columns = cols_new"
   ]
  },
  {
   "cell_type": "code",
   "execution_count": 50,
   "id": "66408b49",
   "metadata": {
    "ExecuteTime": {
     "end_time": "2022-12-28T08:14:06.790295Z",
     "start_time": "2022-12-28T08:14:06.769309Z"
    }
   },
   "outputs": [],
   "source": [
    "df.columns = ['inscricao', 'ano', 'faixa_etaria', 'sexo',\n",
    "       'estado_civil', 'cor_raca', 'tp_escola',\n",
    "       'municipio', 'estado', 'ciencias_natureza', 'ciencias_humanas',\n",
    "       'linguagens_codigos', 'matematica', 'redacao', 'renda_familiar', 'idh', 'lat',\n",
    "       'long', 'populacao']"
   ]
  },
  {
   "cell_type": "code",
   "execution_count": 51,
   "id": "5f3ec93f",
   "metadata": {
    "ExecuteTime": {
     "end_time": "2022-12-28T08:14:07.511993Z",
     "start_time": "2022-12-28T08:14:07.469990Z"
    }
   },
   "outputs": [
    {
     "data": {
      "text/plain": [
       "inscricao                0\n",
       "ano                      0\n",
       "faixa_etaria             0\n",
       "sexo                     0\n",
       "estado_civil             0\n",
       "cor_raca                 0\n",
       "tp_escola                0\n",
       "municipio                0\n",
       "estado                   0\n",
       "ciencias_natureza     7711\n",
       "ciencias_humanas      6792\n",
       "linguagens_codigos    6792\n",
       "matematica            7711\n",
       "redacao               6792\n",
       "renda_familiar           0\n",
       "idh                      0\n",
       "lat                      0\n",
       "long                     0\n",
       "populacao                0\n",
       "dtype: int64"
      ]
     },
     "execution_count": 51,
     "metadata": {},
     "output_type": "execute_result"
    }
   ],
   "source": [
    "df.isna().sum()"
   ]
  },
  {
   "cell_type": "code",
   "execution_count": 52,
   "id": "e4df4962",
   "metadata": {
    "ExecuteTime": {
     "end_time": "2022-12-28T08:14:08.383333Z",
     "start_time": "2022-12-28T08:14:08.323253Z"
    }
   },
   "outputs": [],
   "source": [
    "#Exluindo os valores nulos\n",
    "df = df.dropna()"
   ]
  },
  {
   "cell_type": "code",
   "execution_count": 53,
   "id": "bca3bd22",
   "metadata": {
    "ExecuteTime": {
     "end_time": "2022-12-28T08:14:08.802424Z",
     "start_time": "2022-12-28T08:14:08.785824Z"
    }
   },
   "outputs": [
    {
     "name": "stdout",
     "output_type": "stream",
     "text": [
      "Numbers of rows: 19941\n",
      "\n",
      "Numbers of columns: 19\n",
      "\n"
     ]
    }
   ],
   "source": [
    "show_dimensions(df)"
   ]
  },
  {
   "cell_type": "code",
   "execution_count": 54,
   "id": "0b5245b0",
   "metadata": {
    "ExecuteTime": {
     "end_time": "2022-12-28T08:14:15.014821Z",
     "start_time": "2022-12-28T08:14:14.987821Z"
    },
    "code_folding": []
   },
   "outputs": [],
   "source": [
    "# Cria nota média\n",
    "df['nota_media'] = (df['ciencias_natureza']+\n",
    "                    df['ciencias_humanas'] +\n",
    "                    df['linguagens_codigos']+ \n",
    "                    df['matematica'] +\n",
    "                    df['redacao']) / 5\n",
    "\n",
    "#eliminando os estudantes que ficaram com nota 0 por qualquer outro motivo (e.g. eliminados)\n",
    "df = df[df['nota_media'] != 0]"
   ]
  },
  {
   "cell_type": "code",
   "execution_count": 55,
   "id": "3d33680e",
   "metadata": {
    "ExecuteTime": {
     "end_time": "2022-12-28T08:14:15.188915Z",
     "start_time": "2022-12-28T08:14:15.019821Z"
    }
   },
   "outputs": [],
   "source": [
    "regiao = {\n",
    "    \"Norte\":['AM', 'PA', 'RR', 'AC','RO','AP', 'TO'],\n",
    "    \"Sul\":['PR', 'SC', 'RS'],\n",
    "    \"Centro_Oeste\":['MT', 'MS', 'GO', 'DF'],\n",
    "    \"Nordeste\":['BA', 'CE','MA', 'PB', 'PE', 'RN', 'SE', 'AL', 'PI'],\n",
    "    \"Sudeste\":['SP', 'RJ', 'MG','ES']}\n",
    "\n",
    "for r in regiao:\n",
    "    df.loc[ df['estado'].isin(regiao[r]), 'regiao'] = r"
   ]
  },
  {
   "cell_type": "markdown",
   "id": "2c94f217",
   "metadata": {},
   "source": [
    "## Insert Data"
   ]
  },
  {
   "cell_type": "code",
   "execution_count": 56,
   "id": "7f79a844",
   "metadata": {
    "ExecuteTime": {
     "end_time": "2022-12-28T08:14:15.296504Z",
     "start_time": "2022-12-28T08:14:15.192264Z"
    }
   },
   "outputs": [
    {
     "data": {
      "text/plain": [
       "(19941, 21)"
      ]
     },
     "execution_count": 56,
     "metadata": {},
     "output_type": "execute_result"
    }
   ],
   "source": [
    "df.shape"
   ]
  },
  {
   "cell_type": "markdown",
   "id": "8c1a011d",
   "metadata": {},
   "source": [
    "- Criar um banco de dados com uma amostra de 826668 linhas de dados"
   ]
  },
  {
   "cell_type": "code",
   "execution_count": 57,
   "id": "306835f6",
   "metadata": {
    "ExecuteTime": {
     "end_time": "2022-12-28T08:14:15.404539Z",
     "start_time": "2022-12-28T08:14:15.303350Z"
    }
   },
   "outputs": [],
   "source": [
    "query_create_table_microdados_enem =  \"\"\"\n",
    "    CREATE TABLE microdados_enem (\n",
    "      'inscricao'           INTEGER,\n",
    "      'ano'                 INTEGER,\n",
    "      'faixa_etaria'        INTEGER,\n",
    "      'sexo'                TEXT,\n",
    "      'estado_civil'        TEXT,\n",
    "      'cor_raca'            INTEGER,\n",
    "      'tp_escola'           INTEGER,\n",
    "      'tp_ensino'           REAL,\n",
    "      'municipio'           TEXT,\n",
    "      'estado'              TEXT,\n",
    "      'ciencias_natureza'   REAL,\n",
    "      'ciencias_humanas'    REAL,\n",
    "      'linguagens_codigos'  REAL,\n",
    "      'matematica'          REAL,\n",
    "      'redacao'             REAL,\n",
    "      'renda_familiar'      TEXT, \n",
    "      'idh'                 REAL,\n",
    "      'lat'                 REAL,\n",
    "      'long'                REAL,\n",
    "      'populacao'           REAL,\n",
    "      'nota_media'          REAL,\n",
    "      'regiao'              TEXT    \n",
    "    )\n",
    "\"\"\""
   ]
  },
  {
   "cell_type": "code",
   "execution_count": 60,
   "id": "7dac4b60",
   "metadata": {
    "ExecuteTime": {
     "end_time": "2022-12-28T08:22:52.198790Z",
     "start_time": "2022-12-28T08:22:52.185749Z"
    }
   },
   "outputs": [],
   "source": [
    "query_drop = \"\"\" \n",
    "DROP TABLE microdados_enem\n",
    "\"\"\""
   ]
  },
  {
   "cell_type": "code",
   "execution_count": 62,
   "id": "bb23d81f",
   "metadata": {
    "ExecuteTime": {
     "end_time": "2022-12-28T08:23:10.971257Z",
     "start_time": "2022-12-28T08:23:10.774875Z"
    }
   },
   "outputs": [],
   "source": [
    "#Create table\n",
    "conn = sqlite3.connect('db_enem.sqlite')\n",
    "#conn.execute(query_drop)\n",
    "conn.execute(query_create_table_microdados_enem)\n",
    "conn.commit()\n",
    "conn.close()"
   ]
  },
  {
   "cell_type": "code",
   "execution_count": 63,
   "id": "1843981f",
   "metadata": {
    "ExecuteTime": {
     "end_time": "2022-12-28T08:23:12.640798Z",
     "start_time": "2022-12-28T08:23:11.640091Z"
    }
   },
   "outputs": [
    {
     "data": {
      "text/plain": [
       "19941"
      ]
     },
     "execution_count": 63,
     "metadata": {},
     "output_type": "execute_result"
    }
   ],
   "source": [
    "conn = create_engine('sqlite:///db_enem.sqlite', echo=False)\n",
    "\n",
    "#insert data\n",
    "df.to_sql('microdados_enem', con=conn, if_exists='append', index=False)"
   ]
  },
  {
   "cell_type": "code",
   "execution_count": 64,
   "id": "7e4e6120",
   "metadata": {
    "ExecuteTime": {
     "end_time": "2022-12-28T08:23:14.444424Z",
     "start_time": "2022-12-28T08:23:14.093154Z"
    }
   },
   "outputs": [
    {
     "data": {
      "text/plain": [
       "(19941, 21)"
      ]
     },
     "execution_count": 64,
     "metadata": {},
     "output_type": "execute_result"
    }
   ],
   "source": [
    "#Consultando o banco de dados\n",
    "query =\"\"\"\n",
    "    SELECT *  FROM microdados_enem\n",
    "\"\"\"\n",
    "pd.read_sql_query(query, conn)\n",
    "df.shape"
   ]
  },
  {
   "cell_type": "code",
   "execution_count": 65,
   "id": "2eb47271",
   "metadata": {
    "ExecuteTime": {
     "end_time": "2022-12-28T08:23:44.964954Z",
     "start_time": "2022-12-28T08:23:44.927956Z"
    }
   },
   "outputs": [],
   "source": [
    "data= df.sample(10000).copy()"
   ]
  },
  {
   "cell_type": "code",
   "execution_count": 66,
   "id": "6c076f5d",
   "metadata": {
    "ExecuteTime": {
     "end_time": "2022-12-28T08:23:56.150966Z",
     "start_time": "2022-12-28T08:23:55.917169Z"
    }
   },
   "outputs": [],
   "source": [
    "data.to_csv('data/enem.csv', index=False)"
   ]
  }
 ],
 "metadata": {
  "kernelspec": {
   "display_name": "Python 3 (ipykernel)",
   "language": "python",
   "name": "python3"
  },
  "language_info": {
   "codemirror_mode": {
    "name": "ipython",
    "version": 3
   },
   "file_extension": ".py",
   "mimetype": "text/x-python",
   "name": "python",
   "nbconvert_exporter": "python",
   "pygments_lexer": "ipython3",
   "version": "3.9.7"
  },
  "varInspector": {
   "cols": {
    "lenName": 16,
    "lenType": 16,
    "lenVar": 40
   },
   "kernels_config": {
    "python": {
     "delete_cmd_postfix": "",
     "delete_cmd_prefix": "del ",
     "library": "var_list.py",
     "varRefreshCmd": "print(var_dic_list())"
    },
    "r": {
     "delete_cmd_postfix": ") ",
     "delete_cmd_prefix": "rm(",
     "library": "var_list.r",
     "varRefreshCmd": "cat(var_dic_list()) "
    }
   },
   "types_to_exclude": [
    "module",
    "function",
    "builtin_function_or_method",
    "instance",
    "_Feature"
   ],
   "window_display": false
  }
 },
 "nbformat": 4,
 "nbformat_minor": 5
}
