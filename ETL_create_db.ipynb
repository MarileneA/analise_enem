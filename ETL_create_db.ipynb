{
 "cells": [
  {
   "cell_type": "markdown",
   "id": "ef02ccaf",
   "metadata": {},
   "source": [
    "# Analise de dados ENEM 2017"
   ]
  },
  {
   "cell_type": "markdown",
   "id": "90112a4f",
   "metadata": {},
   "source": [
    "# 0.0 Imports"
   ]
  },
  {
   "cell_type": "code",
   "execution_count": 1,
   "id": "ebc121ad",
   "metadata": {
    "ExecuteTime": {
     "end_time": "2022-12-29T09:50:33.613798Z",
     "start_time": "2022-12-29T09:50:09.611824Z"
    }
   },
   "outputs": [],
   "source": [
    "import inflection\n",
    "import sqlite3\n",
    "import zipfile\n",
    "import pandas                   as pd\n",
    "import numpy                    as np\n",
    "import seaborn                  as sns\n",
    "import plotly.express           as px\n",
    "from sqlalchemy                 import create_engine\n",
    "from matplotlib                 import gridspec\n",
    "from matplotlib                 import pyplot as plt\n",
    "\n",
    "from geopy.geocoders            import Nominatim\n",
    "from geopy.extra.rate_limiter   import RateLimiter"
   ]
  },
  {
   "cell_type": "markdown",
   "id": "c24a16c2",
   "metadata": {},
   "source": [
    "## Funções"
   ]
  },
  {
   "cell_type": "code",
   "execution_count": 2,
   "id": "a4a87c8c",
   "metadata": {
    "ExecuteTime": {
     "end_time": "2022-12-29T09:52:17.346226Z",
     "start_time": "2022-12-29T09:52:17.326193Z"
    }
   },
   "outputs": [],
   "source": [
    "# Função para formatar notação científica\n",
    "pd.set_option('display.float_format', lambda x: '%.4f' % x)\n",
    "\n",
    "# Tamanho dos Graficos\n",
    "sns.set(style = \"darkgrid\")\n",
    "sns.set(rc={\"figure.figsize\":(15, 10)})\n",
    "#pd.options.display.float_format = \"{:,.2f}\".format\n",
    "\n",
    "def show_dimensions(data):\n",
    "    print(f'Numbers of rows: { df.shape[0] }\\n')\n",
    "    print(f'Numbers of columns: { df.shape[1] }\\n')\n",
    "    return None\n",
    "\n",
    "def show_dtypes(data):\n",
    "    print(data.info())\n",
    "    return None\n",
    "\n",
    "# Obter coordenadas geográficas\n",
    "def geo_data(data):\n",
    "    \"\"\"Essa Função busca a coordenadas geográficas a partir do dataset cidades e cria as colunas lat e long\"\"\"\n",
    "    locator = Nominatim(user_agent=\"mygeocoder\")\n",
    "    geocode = RateLimiter(locator.geocode, min_delay_seconds=1)\n",
    "\n",
    "    df_cidades['geolocalizacao'] = df_cidades['Município'].apply(geocode)\n",
    "    ## Filtrando lat e long da coluna\n",
    "    df_cidades['lat']= df_cidades['geolocalizacao'].apply(lambda loc: loc.latitude if loc else None)\n",
    "    df_cidades['long']= df_cidades['geolocalizacao'].apply(lambda loc: loc.longitude if loc else None)\n",
    "       \n",
    "    return data\n",
    "\n",
    "def clean_code(data):\n",
    "    \"\"\"Esta Função Limpa o DataFrame\n",
    "    Tipo de limpeza:\n",
    "    remove os dados NA\n",
    "    remove as notas zero \"\"\"\n",
    "    df = df.dropna()\n",
    "    \n",
    "    return data\n",
    "    "
   ]
  },
  {
   "cell_type": "markdown",
   "id": "98cfd395",
   "metadata": {},
   "source": [
    "##  Extração  dos dados"
   ]
  },
  {
   "cell_type": "code",
   "execution_count": 3,
   "id": "45e1d322",
   "metadata": {
    "ExecuteTime": {
     "end_time": "2022-12-29T09:52:24.918299Z",
     "start_time": "2022-12-29T09:52:24.406587Z"
    }
   },
   "outputs": [],
   "source": [
    "#MIcrodados Enem\n",
    "colunas = ['NU_INSCRICAO', 'NU_ANO', 'TP_FAIXA_ETARIA', 'TP_SEXO', 'TP_ESTADO_CIVIL', 'TP_COR_RACA','TP_ESCOLA', \n",
    "           'NO_MUNICIPIO_PROVA', 'SG_UF_PROVA','NU_NOTA_CN', 'NU_NOTA_CH', 'NU_NOTA_LC', 'NU_NOTA_MT','NU_NOTA_REDACAO','Q006']\n",
    "\n",
    "with zipfile.ZipFile('data/microdados_enem_2017.zip') as z:\n",
    "    with z.open('DADOS/MICRODADOS_ENEM_2017.csv') as f:\n",
    "        # Criar uma lista com estas colunas que serão usadas\n",
    "        df = pd.read_csv(f,sep=';', encoding='ISO-8859-1', usecols=colunas, nrows=10000)\n",
    "        \n",
    "# carregar o Dataset cidades\n",
    "colunas = ['Município','IDHMunicipal_2010', 'População_estimada_pessoas_2019']\n",
    "\n",
    "df_cidades = pd.read_csv('data/cidades.csv', usecols=colunas)\n"
   ]
  },
  {
   "cell_type": "code",
   "execution_count": 5,
   "id": "cde5cf99",
   "metadata": {
    "ExecuteTime": {
     "end_time": "2022-12-29T11:31:09.858394Z",
     "start_time": "2022-12-29T09:57:20.689456Z"
    }
   },
   "outputs": [
    {
     "data": {
      "text/html": [
       "<div>\n",
       "<style scoped>\n",
       "    .dataframe tbody tr th:only-of-type {\n",
       "        vertical-align: middle;\n",
       "    }\n",
       "\n",
       "    .dataframe tbody tr th {\n",
       "        vertical-align: top;\n",
       "    }\n",
       "\n",
       "    .dataframe thead th {\n",
       "        text-align: right;\n",
       "    }\n",
       "</style>\n",
       "<table border=\"1\" class=\"dataframe\">\n",
       "  <thead>\n",
       "    <tr style=\"text-align: right;\">\n",
       "      <th></th>\n",
       "      <th>Município</th>\n",
       "      <th>População_estimada_pessoas_2019</th>\n",
       "      <th>IDHMunicipal_2010</th>\n",
       "      <th>geolocalizacao</th>\n",
       "      <th>lat</th>\n",
       "      <th>long</th>\n",
       "    </tr>\n",
       "  </thead>\n",
       "  <tbody>\n",
       "    <tr>\n",
       "      <th>0</th>\n",
       "      <td>Adamantina</td>\n",
       "      <td>35068</td>\n",
       "      <td>0,79</td>\n",
       "      <td>(Adamantina, Região Imediata de Adamantina-Luc...</td>\n",
       "      <td>-21.6867</td>\n",
       "      <td>-51.0763</td>\n",
       "    </tr>\n",
       "    <tr>\n",
       "      <th>1</th>\n",
       "      <td>Adolfo</td>\n",
       "      <td>3562</td>\n",
       "      <td>0,73</td>\n",
       "      <td>(Adolfo, Região Imediata de São José do Rio Pr...</td>\n",
       "      <td>-21.2357</td>\n",
       "      <td>-49.6442</td>\n",
       "    </tr>\n",
       "    <tr>\n",
       "      <th>2</th>\n",
       "      <td>Aguaí</td>\n",
       "      <td>36305</td>\n",
       "      <td>0,715</td>\n",
       "      <td>(Aguaí, Região Imediata de São João da Boa Vis...</td>\n",
       "      <td>-22.0592</td>\n",
       "      <td>-46.9794</td>\n",
       "    </tr>\n",
       "    <tr>\n",
       "      <th>3</th>\n",
       "      <td>Águas da Prata</td>\n",
       "      <td>8180</td>\n",
       "      <td>0,781</td>\n",
       "      <td>(Águas da Prata, Região Imediata de São João d...</td>\n",
       "      <td>-21.9464</td>\n",
       "      <td>-46.7192</td>\n",
       "    </tr>\n",
       "    <tr>\n",
       "      <th>4</th>\n",
       "      <td>Águas de Lindóia</td>\n",
       "      <td>18705</td>\n",
       "      <td>0,745</td>\n",
       "      <td>(Águas de Lindóia, Região Imediata de Amparo, ...</td>\n",
       "      <td>-22.4719</td>\n",
       "      <td>-46.6291</td>\n",
       "    </tr>\n",
       "    <tr>\n",
       "      <th>...</th>\n",
       "      <td>...</td>\n",
       "      <td>...</td>\n",
       "      <td>...</td>\n",
       "      <td>...</td>\n",
       "      <td>...</td>\n",
       "      <td>...</td>\n",
       "    </tr>\n",
       "    <tr>\n",
       "      <th>5565</th>\n",
       "      <td>Várzea</td>\n",
       "      <td>5500</td>\n",
       "      <td>0,626</td>\n",
       "      <td>(Várzea, Região Geográfica Imediata de Patos, ...</td>\n",
       "      <td>-6.7711</td>\n",
       "      <td>-36.9912</td>\n",
       "    </tr>\n",
       "    <tr>\n",
       "      <th>5566</th>\n",
       "      <td>Venha-Ver</td>\n",
       "      <td>4177</td>\n",
       "      <td>0,555</td>\n",
       "      <td>(Venha-Ver, Região Geográfica Imediata de Pau ...</td>\n",
       "      <td>-6.3205</td>\n",
       "      <td>-38.4899</td>\n",
       "    </tr>\n",
       "    <tr>\n",
       "      <th>5567</th>\n",
       "      <td>Vera Cruz</td>\n",
       "      <td>12481</td>\n",
       "      <td>0,587</td>\n",
       "      <td>(Vera Cruz, Região Imediata de Marília, Região...</td>\n",
       "      <td>-22.2213</td>\n",
       "      <td>-49.8243</td>\n",
       "    </tr>\n",
       "    <tr>\n",
       "      <th>5568</th>\n",
       "      <td>Viçosa</td>\n",
       "      <td>1718</td>\n",
       "      <td>0,592</td>\n",
       "      <td>(Viçosa, Região Geográfica Imediata de Viçosa,...</td>\n",
       "      <td>-20.7539</td>\n",
       "      <td>-42.8816</td>\n",
       "    </tr>\n",
       "    <tr>\n",
       "      <th>5569</th>\n",
       "      <td>Vila Flor</td>\n",
       "      <td>3170</td>\n",
       "      <td>0,576</td>\n",
       "      <td>(Vila Flor, Bragança, Portugal, (41.3067941, -...</td>\n",
       "      <td>41.3068</td>\n",
       "      <td>-7.1518</td>\n",
       "    </tr>\n",
       "  </tbody>\n",
       "</table>\n",
       "<p>5570 rows × 6 columns</p>\n",
       "</div>"
      ],
      "text/plain": [
       "             Município  População_estimada_pessoas_2019 IDHMunicipal_2010  \\\n",
       "0           Adamantina                            35068              0,79   \n",
       "1               Adolfo                             3562              0,73   \n",
       "2                Aguaí                            36305             0,715   \n",
       "3       Águas da Prata                             8180             0,781   \n",
       "4     Águas de Lindóia                            18705             0,745   \n",
       "...                ...                              ...               ...   \n",
       "5565            Várzea                             5500             0,626   \n",
       "5566         Venha-Ver                             4177             0,555   \n",
       "5567         Vera Cruz                            12481             0,587   \n",
       "5568            Viçosa                             1718             0,592   \n",
       "5569         Vila Flor                             3170             0,576   \n",
       "\n",
       "                                         geolocalizacao      lat     long  \n",
       "0     (Adamantina, Região Imediata de Adamantina-Luc... -21.6867 -51.0763  \n",
       "1     (Adolfo, Região Imediata de São José do Rio Pr... -21.2357 -49.6442  \n",
       "2     (Aguaí, Região Imediata de São João da Boa Vis... -22.0592 -46.9794  \n",
       "3     (Águas da Prata, Região Imediata de São João d... -21.9464 -46.7192  \n",
       "4     (Águas de Lindóia, Região Imediata de Amparo, ... -22.4719 -46.6291  \n",
       "...                                                 ...      ...      ...  \n",
       "5565  (Várzea, Região Geográfica Imediata de Patos, ...  -6.7711 -36.9912  \n",
       "5566  (Venha-Ver, Região Geográfica Imediata de Pau ...  -6.3205 -38.4899  \n",
       "5567  (Vera Cruz, Região Imediata de Marília, Região... -22.2213 -49.8243  \n",
       "5568  (Viçosa, Região Geográfica Imediata de Viçosa,... -20.7539 -42.8816  \n",
       "5569  (Vila Flor, Bragança, Portugal, (41.3067941, -...  41.3068  -7.1518  \n",
       "\n",
       "[5570 rows x 6 columns]"
      ]
     },
     "execution_count": 5,
     "metadata": {},
     "output_type": "execute_result"
    }
   ],
   "source": [
    "geo_data(df_cidades)"
   ]
  },
  {
   "cell_type": "markdown",
   "id": "c8302263",
   "metadata": {},
   "source": [
    "##  Transformação"
   ]
  },
  {
   "cell_type": "code",
   "execution_count": 8,
   "id": "53aa1dc6",
   "metadata": {
    "ExecuteTime": {
     "end_time": "2022-12-29T11:40:02.871025Z",
     "start_time": "2022-12-29T11:40:02.462004Z"
    }
   },
   "outputs": [],
   "source": [
    "#Renomear colunas para concatenar os datasets\n",
    "df_cidades.columns=['NO_MUNICIPIO_PROVA',  'populacao', 'geolocalizacao', 'idh', 'lat', 'long',]\n",
    "\n",
    "df = pd.merge(df, df_cidades, how='left', on='NO_MUNICIPIO_PROVA')"
   ]
  },
  {
   "cell_type": "code",
   "execution_count": 9,
   "id": "75a2e43a",
   "metadata": {
    "ExecuteTime": {
     "end_time": "2022-12-29T11:40:22.929925Z",
     "start_time": "2022-12-29T11:40:22.569134Z"
    }
   },
   "outputs": [
    {
     "name": "stdout",
     "output_type": "stream",
     "text": [
      "Numbers of rows: 11011\n",
      "\n",
      "Numbers of columns: 20\n",
      "\n",
      "<class 'pandas.core.frame.DataFrame'>\n",
      "Int64Index: 11011 entries, 0 to 11010\n",
      "Data columns (total 20 columns):\n",
      " #   Column              Non-Null Count  Dtype  \n",
      "---  ------              --------------  -----  \n",
      " 0   NU_INSCRICAO        11011 non-null  int64  \n",
      " 1   NU_ANO              11011 non-null  int64  \n",
      " 2   TP_FAIXA_ETARIA     11011 non-null  int64  \n",
      " 3   TP_SEXO             11011 non-null  object \n",
      " 4   TP_ESTADO_CIVIL     11011 non-null  int64  \n",
      " 5   TP_COR_RACA         11011 non-null  int64  \n",
      " 6   TP_ESCOLA           11011 non-null  int64  \n",
      " 7   NO_MUNICIPIO_PROVA  11011 non-null  object \n",
      " 8   SG_UF_PROVA         11011 non-null  object \n",
      " 9   NU_NOTA_CN          7748 non-null   float64\n",
      " 10  NU_NOTA_CH          8101 non-null   float64\n",
      " 11  NU_NOTA_LC          8101 non-null   float64\n",
      " 12  NU_NOTA_MT          7748 non-null   float64\n",
      " 13  NU_NOTA_REDACAO     8101 non-null   float64\n",
      " 14  Q006                11011 non-null  object \n",
      " 15  populacao           11011 non-null  int64  \n",
      " 16  geolocalizacao      11011 non-null  object \n",
      " 17  idh                 11011 non-null  object \n",
      " 18  lat                 11011 non-null  float64\n",
      " 19  long                11011 non-null  float64\n",
      "dtypes: float64(7), int64(7), object(6)\n",
      "memory usage: 1.8+ MB\n",
      "None\n"
     ]
    }
   ],
   "source": [
    "show_dimensions(df)\n",
    "\n",
    "show_dtypes(df)"
   ]
  },
  {
   "cell_type": "code",
   "execution_count": 12,
   "id": "a13a06b8",
   "metadata": {
    "ExecuteTime": {
     "end_time": "2022-12-29T11:41:04.374236Z",
     "start_time": "2022-12-29T11:41:04.356236Z"
    }
   },
   "outputs": [],
   "source": [
    "#Renomear as colunas do dataset microdados\n",
    "cols_old = ['NU_INSCRICAO', 'NU_ANO', 'TP_FAIXA_ETARIA', 'TP_SEXO',\n",
    "       'TP_ESTADO_CIVIL', 'TP_COR_RACA', 'TP_ESCOLA', 'NO_MUNICIPIO_PROVA',\n",
    "       'SG_UF_PROVA', 'NU_NOTA_CN', 'NU_NOTA_CH', 'NU_NOTA_LC', 'NU_NOTA_MT',\n",
    "       'NU_NOTA_REDACAO', 'Q006', 'populacao', 'geolocalizacao', 'idh', 'lat',\n",
    "       'long']\n",
    "\n",
    "\n",
    "#Função para renomear colunas\n",
    "snakecase = lambda x: inflection.underscore(x)\n",
    "cols_new = list( map( snakecase, cols_old) )\n",
    "#Rename\n",
    "df.columns = cols_new"
   ]
  },
  {
   "cell_type": "code",
   "execution_count": 13,
   "id": "66408b49",
   "metadata": {
    "ExecuteTime": {
     "end_time": "2022-12-29T11:41:46.232860Z",
     "start_time": "2022-12-29T11:41:46.216862Z"
    }
   },
   "outputs": [],
   "source": [
    "df.columns = ['inscricao', 'ano', 'faixa_etaria', 'sexo',\n",
    "       'estado_civil', 'cor_raca', 'tp_escola',\n",
    "       'municipio', 'estado', 'ciencias_natureza', 'ciencias_humanas',\n",
    "       'linguagens_codigos', 'matematica', 'redacao', 'renda_familiar', 'populacao', 'geolocalizacao','idh', 'lat',\n",
    "       'long', ]"
   ]
  },
  {
   "cell_type": "code",
   "execution_count": 14,
   "id": "5f3ec93f",
   "metadata": {
    "ExecuteTime": {
     "end_time": "2022-12-29T11:41:48.440212Z",
     "start_time": "2022-12-29T11:41:48.409481Z"
    }
   },
   "outputs": [
    {
     "data": {
      "text/plain": [
       "inscricao                0\n",
       "ano                      0\n",
       "faixa_etaria             0\n",
       "sexo                     0\n",
       "estado_civil             0\n",
       "cor_raca                 0\n",
       "tp_escola                0\n",
       "municipio                0\n",
       "estado                   0\n",
       "ciencias_natureza     3263\n",
       "ciencias_humanas      2910\n",
       "linguagens_codigos    2910\n",
       "matematica            3263\n",
       "redacao               2910\n",
       "renda_familiar           0\n",
       "populacao                0\n",
       "geolocalizacao           0\n",
       "idh                      0\n",
       "lat                      0\n",
       "long                     0\n",
       "dtype: int64"
      ]
     },
     "execution_count": 14,
     "metadata": {},
     "output_type": "execute_result"
    }
   ],
   "source": [
    "df.isna().sum()"
   ]
  },
  {
   "cell_type": "code",
   "execution_count": 52,
   "id": "e4df4962",
   "metadata": {
    "ExecuteTime": {
     "end_time": "2022-12-29T12:03:01.249398Z",
     "start_time": "2022-12-29T12:03:01.216397Z"
    }
   },
   "outputs": [],
   "source": [
    "#Exluindo os valores nulos\n",
    "df = df.dropna()\n",
    "\n",
    "df.drop(['geolocalizacao'], axis=1, inplace=True)"
   ]
  },
  {
   "cell_type": "code",
   "execution_count": 53,
   "id": "bca3bd22",
   "metadata": {
    "ExecuteTime": {
     "end_time": "2022-12-29T12:03:02.433628Z",
     "start_time": "2022-12-29T12:03:02.414624Z"
    }
   },
   "outputs": [
    {
     "name": "stdout",
     "output_type": "stream",
     "text": [
      "Numbers of rows: 7738\n",
      "\n",
      "Numbers of columns: 21\n",
      "\n"
     ]
    }
   ],
   "source": [
    "show_dimensions(df)"
   ]
  },
  {
   "cell_type": "code",
   "execution_count": 54,
   "id": "0b5245b0",
   "metadata": {
    "ExecuteTime": {
     "end_time": "2022-12-29T12:03:04.650490Z",
     "start_time": "2022-12-29T12:03:04.635490Z"
    },
    "code_folding": []
   },
   "outputs": [],
   "source": [
    "# Cria nota média\n",
    "df['nota_media'] = (df['ciencias_natureza']+\n",
    "                    df['ciencias_humanas'] +\n",
    "                    df['linguagens_codigos']+ \n",
    "                    df['matematica'] +\n",
    "                    df['redacao']) / 5\n",
    "\n",
    "#eliminando os estudantes que ficaram com nota 0 por qualquer outro motivo (e.g. eliminados)\n",
    "df = df[df['nota_media'] != 0]"
   ]
  },
  {
   "cell_type": "code",
   "execution_count": 55,
   "id": "3d33680e",
   "metadata": {
    "ExecuteTime": {
     "end_time": "2022-12-29T12:03:05.356050Z",
     "start_time": "2022-12-29T12:03:05.333057Z"
    }
   },
   "outputs": [],
   "source": [
    "regiao = {\n",
    "    \"Norte\":['AM', 'PA', 'RR', 'AC','RO','AP', 'TO'],\n",
    "    \"Sul\":['PR', 'SC', 'RS'],\n",
    "    \"Centro_Oeste\":['MT', 'MS', 'GO', 'DF'],\n",
    "    \"Nordeste\":['BA', 'CE','MA', 'PB', 'PE', 'RN', 'SE', 'AL', 'PI'],\n",
    "    \"Sudeste\":['SP', 'RJ', 'MG','ES']}\n",
    "\n",
    "for r in regiao:\n",
    "    df.loc[ df['estado'].isin(regiao[r]), 'regiao'] = r"
   ]
  },
  {
   "cell_type": "code",
   "execution_count": 82,
   "id": "bc4a0ef0",
   "metadata": {
    "ExecuteTime": {
     "end_time": "2022-12-29T12:20:51.911658Z",
     "start_time": "2022-12-29T12:20:51.851618Z"
    }
   },
   "outputs": [],
   "source": [
    "#Mudar dtypes\n",
    "df['idh']= df['idh'].str.replace(',','.').astype(float)"
   ]
  },
  {
   "cell_type": "markdown",
   "id": "2c94f217",
   "metadata": {},
   "source": [
    "## Carregar Banco de Dados"
   ]
  },
  {
   "cell_type": "code",
   "execution_count": 83,
   "id": "a2b1f6ac",
   "metadata": {
    "ExecuteTime": {
     "end_time": "2022-12-29T12:20:55.979719Z",
     "start_time": "2022-12-29T12:20:55.960716Z"
    }
   },
   "outputs": [
    {
     "data": {
      "text/plain": [
       "inscricao               int64\n",
       "ano                     int64\n",
       "faixa_etaria            int64\n",
       "sexo                   object\n",
       "estado_civil            int64\n",
       "cor_raca                int64\n",
       "tp_escola               int64\n",
       "municipio              object\n",
       "estado                 object\n",
       "ciencias_natureza     float64\n",
       "ciencias_humanas      float64\n",
       "linguagens_codigos    float64\n",
       "matematica            float64\n",
       "redacao               float64\n",
       "renda_familiar         object\n",
       "populacao               int64\n",
       "idh                   float64\n",
       "lat                   float64\n",
       "long                  float64\n",
       "nota_media            float64\n",
       "regiao                 object\n",
       "dtype: object"
      ]
     },
     "execution_count": 83,
     "metadata": {},
     "output_type": "execute_result"
    }
   ],
   "source": [
    "df.dtypes\n"
   ]
  },
  {
   "cell_type": "code",
   "execution_count": 86,
   "id": "306835f6",
   "metadata": {
    "ExecuteTime": {
     "end_time": "2022-12-29T12:21:15.962884Z",
     "start_time": "2022-12-29T12:21:15.949887Z"
    }
   },
   "outputs": [],
   "source": [
    "query_create_table_microdados_enem =  \"\"\"\n",
    "    CREATE TABLE microdados_enem (\n",
    "      inscricao               INTEGER,\n",
    "      ano                     INTEGER,\n",
    "      faixa_etaria            INTEGER,\n",
    "      sexo                    TEXT,\n",
    "      estado_civil            INTEGER,\n",
    "      cor_raca                INTEGER,\n",
    "      tp_escola               INTEGER,\n",
    "      municipio               TEXT,\n",
    "      estado                  TEXT,\n",
    "      ciencias_natureza       REAL,\n",
    "      ciencias_humanas        REAL,\n",
    "      linguagens_codigos      REAL,\n",
    "      matematica              REAL,\n",
    "      redacao                 REAL,\n",
    "      renda_familiar          TEXT,\n",
    "      populacao               INTEGER,\n",
    "      idh                     REAL,\n",
    "      lat                     REAL,\n",
    "      long                    REAL,\n",
    "      nota_media              REAL,\n",
    "      regiao                  TEXT\n",
    "     )\n",
    "\"\"\""
   ]
  },
  {
   "cell_type": "code",
   "execution_count": 87,
   "id": "bb23d81f",
   "metadata": {
    "ExecuteTime": {
     "end_time": "2022-12-29T12:21:21.147335Z",
     "start_time": "2022-12-29T12:21:20.919601Z"
    }
   },
   "outputs": [],
   "source": [
    "#Create table\n",
    "conn = sqlite3.connect('db_enem.sqlite')\n",
    "conn.execute(query_create_table_microdados_enem)\n",
    "conn.commit()\n",
    "conn.close()"
   ]
  },
  {
   "cell_type": "code",
   "execution_count": 88,
   "id": "1843981f",
   "metadata": {
    "ExecuteTime": {
     "end_time": "2022-12-29T12:21:22.561378Z",
     "start_time": "2022-12-29T12:21:22.096661Z"
    }
   },
   "outputs": [
    {
     "data": {
      "text/plain": [
       "7738"
      ]
     },
     "execution_count": 88,
     "metadata": {},
     "output_type": "execute_result"
    }
   ],
   "source": [
    "conn = create_engine('sqlite:///db_enem.sqlite', echo=False)\n",
    "\n",
    "#insert data\n",
    "df.to_sql('microdados_enem', con=conn, if_exists='append', index=False)"
   ]
  },
  {
   "cell_type": "code",
   "execution_count": 89,
   "id": "7e4e6120",
   "metadata": {
    "ExecuteTime": {
     "end_time": "2022-12-29T12:21:39.882406Z",
     "start_time": "2022-12-29T12:21:39.729312Z"
    }
   },
   "outputs": [
    {
     "data": {
      "text/plain": [
       "(7738, 21)"
      ]
     },
     "execution_count": 89,
     "metadata": {},
     "output_type": "execute_result"
    }
   ],
   "source": [
    "#Consultando o banco de dados\n",
    "query =\"\"\"\n",
    "    SELECT *  FROM microdados_enem\n",
    "\"\"\"\n",
    "pd.read_sql_query(query, conn)\n",
    "df.shape"
   ]
  },
  {
   "cell_type": "code",
   "execution_count": 91,
   "id": "2eb47271",
   "metadata": {
    "ExecuteTime": {
     "end_time": "2022-12-29T12:21:53.462080Z",
     "start_time": "2022-12-29T12:21:53.442038Z"
    }
   },
   "outputs": [],
   "source": [
    "data= df.copy()"
   ]
  },
  {
   "cell_type": "code",
   "execution_count": 92,
   "id": "6c076f5d",
   "metadata": {
    "ExecuteTime": {
     "end_time": "2022-12-29T12:21:55.781691Z",
     "start_time": "2022-12-29T12:21:55.479671Z"
    }
   },
   "outputs": [
    {
     "name": "stderr",
     "output_type": "stream",
     "text": [
      "C:\\Users\\PC\\SejaUmDataScientist\\Analise_de_dados\\dadosfera\\tutorial-env\\lib\\site-packages\\pandas\\core\\internals\\blocks.py:2323: RuntimeWarning: invalid value encountered in cast\n",
      "  values = values.astype(str)\n"
     ]
    }
   ],
   "source": [
    "data.to_csv('data/enem.csv', index=False)"
   ]
  }
 ],
 "metadata": {
  "kernelspec": {
   "display_name": "Python 3 (ipykernel)",
   "language": "python",
   "name": "python3"
  },
  "language_info": {
   "codemirror_mode": {
    "name": "ipython",
    "version": 3
   },
   "file_extension": ".py",
   "mimetype": "text/x-python",
   "name": "python",
   "nbconvert_exporter": "python",
   "pygments_lexer": "ipython3",
   "version": "3.9.7"
  },
  "varInspector": {
   "cols": {
    "lenName": 16,
    "lenType": 16,
    "lenVar": 40
   },
   "kernels_config": {
    "python": {
     "delete_cmd_postfix": "",
     "delete_cmd_prefix": "del ",
     "library": "var_list.py",
     "varRefreshCmd": "print(var_dic_list())"
    },
    "r": {
     "delete_cmd_postfix": ") ",
     "delete_cmd_prefix": "rm(",
     "library": "var_list.r",
     "varRefreshCmd": "cat(var_dic_list()) "
    }
   },
   "types_to_exclude": [
    "module",
    "function",
    "builtin_function_or_method",
    "instance",
    "_Feature"
   ],
   "window_display": false
  }
 },
 "nbformat": 4,
 "nbformat_minor": 5
}
